{
 "cells": [
  {
   "cell_type": "code",
   "execution_count": 86,
   "id": "ca7ea9ee",
   "metadata": {},
   "outputs": [],
   "source": [
    "import requests\n",
    "from bs4 import BeautifulSoup\n",
    "\n",
    "import re\n",
    "\n",
    "from tqdm import tqdm\n",
    "import time\n",
    "\n",
    "import pandas as pd"
   ]
  },
  {
   "cell_type": "code",
   "execution_count": 80,
   "id": "00d8c909",
   "metadata": {},
   "outputs": [],
   "source": [
    "path = 'https://poezja.org/wz/Szymborska_Wisława/#author-works'"
   ]
  },
  {
   "cell_type": "code",
   "execution_count": 81,
   "id": "3e69e5b6",
   "metadata": {},
   "outputs": [],
   "source": [
    "getpage = requests.get(path)"
   ]
  },
  {
   "cell_type": "code",
   "execution_count": 82,
   "id": "6bba5072",
   "metadata": {},
   "outputs": [],
   "source": [
    "soup = BeautifulSoup(getpage.text, 'html.parser')"
   ]
  },
  {
   "cell_type": "code",
   "execution_count": 83,
   "id": "9b3bfa1a",
   "metadata": {},
   "outputs": [
    {
     "name": "stderr",
     "output_type": "stream",
     "text": [
      "100%|█████████████████████████████████████████| 227/227 [02:56<00:00,  1.29it/s]\n"
     ]
    }
   ],
   "source": [
    "poem_list = []\n",
    "\n",
    "for a in tqdm( soup.find_all(id='allPoems')[0].find_all(\"a\") ):\n",
    "    poem_path = a['href']\n",
    "    \n",
    "    get_poem = requests.get(poem_path)\n",
    "    \n",
    "    poem_soup = BeautifulSoup(get_poem.text, 'html.parser')\n",
    "    \n",
    "    poem = poem_soup.find_all(\"div\", class_ = \"container\")\n",
    "    \n",
    "    poem_txt = poem[2].find_all(\"p\")[0].text\n",
    "    \n",
    "    clean_txt = re.sub('Czytaj dalej.*', '', poem_txt).strip()\n",
    "    \n",
    "    time.sleep(0.5)\n",
    "    \n",
    "    poem_list.append(clean_txt)"
   ]
  },
  {
   "cell_type": "code",
   "execution_count": 88,
   "id": "c819ada2",
   "metadata": {},
   "outputs": [],
   "source": [
    "df = pd.DataFrame({'poem' : poem_list})"
   ]
  },
  {
   "cell_type": "code",
   "execution_count": 90,
   "id": "7cfd6d34",
   "metadata": {},
   "outputs": [],
   "source": [
    "df.to_csv('poems/szymborska.csv', sep=';', index=False)"
   ]
  },
  {
   "cell_type": "code",
   "execution_count": null,
   "id": "0f4e078f",
   "metadata": {},
   "outputs": [],
   "source": []
  }
 ],
 "metadata": {
  "kernelspec": {
   "display_name": "Python 3 (ipykernel)",
   "language": "python",
   "name": "python3"
  },
  "language_info": {
   "codemirror_mode": {
    "name": "ipython",
    "version": 3
   },
   "file_extension": ".py",
   "mimetype": "text/x-python",
   "name": "python",
   "nbconvert_exporter": "python",
   "pygments_lexer": "ipython3",
   "version": "3.9.10"
  }
 },
 "nbformat": 4,
 "nbformat_minor": 5
}
