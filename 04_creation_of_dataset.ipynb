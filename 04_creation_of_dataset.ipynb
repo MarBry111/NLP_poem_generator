{
 "cells": [
  {
   "cell_type": "code",
   "execution_count": 9,
   "id": "ca7ea9ee",
   "metadata": {},
   "outputs": [],
   "source": [
    "import requests\n",
    "from bs4 import BeautifulSoup\n",
    "\n",
    "import re\n",
    "\n",
    "from tqdm import tqdm\n",
    "import time\n",
    "\n",
    "import pandas as pd"
   ]
  },
  {
   "cell_type": "code",
   "execution_count": 7,
   "id": "7395fa6c",
   "metadata": {},
   "outputs": [],
   "source": [
    "p_list = [#'Kaczmarski_Jacek', 'Szymborska_Wisława', \n",
    "          'Miłosz_Czesław', 'Baczyński_Krzysztof_Kamil']"
   ]
  },
  {
   "cell_type": "code",
   "execution_count": 8,
   "id": "90f36edf",
   "metadata": {},
   "outputs": [
    {
     "name": "stderr",
     "output_type": "stream",
     "text": [
      "100%|█████████████████████████████████████████| 110/110 [01:20<00:00,  1.37it/s]\n",
      "100%|█████████████████████████████████████████| 367/367 [04:34<00:00,  1.34it/s]\n"
     ]
    }
   ],
   "source": [
    "for p in p_list:\n",
    "    path = f'https://poezja.org/wz/{p}/#author-works'\n",
    "    \n",
    "    getpage = requests.get(path)\n",
    "    \n",
    "    soup = BeautifulSoup(getpage.text, 'html.parser')\n",
    "    \n",
    "    poem_list = []\n",
    "\n",
    "    for a in tqdm( soup.find_all(id='allPoems')[0].find_all(\"a\") ):\n",
    "        poem_path = a['href']\n",
    "\n",
    "        get_poem = requests.get(poem_path)\n",
    "\n",
    "        poem_soup = BeautifulSoup(get_poem.text, 'html.parser')\n",
    "\n",
    "        poem = poem_soup.find_all(\"div\", class_ = \"container\")\n",
    "\n",
    "        poem_txt = poem[2].find_all(\"p\")[0].text\n",
    "\n",
    "        clean_txt = re.sub('Czytaj dalej.*', '', poem_txt).strip()\n",
    "\n",
    "        time.sleep(0.5)\n",
    "\n",
    "        poem_list.append(clean_txt)\n",
    "    \n",
    "    df = pd.DataFrame({'poem' : poem_list})\n",
    "    \n",
    "    df.to_csv(f'poems/{p.lower()}.csv', sep=';', index=False)"
   ]
  },
  {
   "cell_type": "code",
   "execution_count": null,
   "id": "0f4e078f",
   "metadata": {},
   "outputs": [],
   "source": []
  }
 ],
 "metadata": {
  "kernelspec": {
   "display_name": "Python 3 (ipykernel)",
   "language": "python",
   "name": "python3"
  },
  "language_info": {
   "codemirror_mode": {
    "name": "ipython",
    "version": 3
   },
   "file_extension": ".py",
   "mimetype": "text/x-python",
   "name": "python",
   "nbconvert_exporter": "python",
   "pygments_lexer": "ipython3",
   "version": "3.9.10"
  }
 },
 "nbformat": 4,
 "nbformat_minor": 5
}
