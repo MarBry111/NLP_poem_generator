{
  "cells": [
    {
      "cell_type": "markdown",
      "source": [
        "# Import"
      ],
      "metadata": {
        "id": "TIgckz6CYC3r"
      },
      "id": "TIgckz6CYC3r"
    },
    {
      "cell_type": "code",
      "source": [
        "# https://medium.com/swlh/fine-tuning-gpt-2-for-magic-the-gathering-flavour-text-generation-3bafd0f9bb93"
      ],
      "metadata": {
        "id": "QidJGrMVhOQV"
      },
      "id": "QidJGrMVhOQV",
      "execution_count": 1,
      "outputs": []
    },
    {
      "cell_type": "markdown",
      "source": [
        ""
      ],
      "metadata": {
        "id": "SXV06tRThN9k"
      },
      "id": "SXV06tRThN9k"
    },
    {
      "cell_type": "code",
      "source": [
        "!pip install transformers"
      ],
      "metadata": {
        "colab": {
          "base_uri": "https://localhost:8080/"
        },
        "id": "sEDaU73WyMLT",
        "outputId": "4e956300-c800-48f7-cb9b-3086ad364e49"
      },
      "id": "sEDaU73WyMLT",
      "execution_count": 2,
      "outputs": [
        {
          "output_type": "stream",
          "name": "stdout",
          "text": [
            "Requirement already satisfied: transformers in /usr/local/lib/python3.7/dist-packages (4.19.2)\n",
            "Requirement already satisfied: requests in /usr/local/lib/python3.7/dist-packages (from transformers) (2.23.0)\n",
            "Requirement already satisfied: numpy>=1.17 in /usr/local/lib/python3.7/dist-packages (from transformers) (1.21.6)\n",
            "Requirement already satisfied: packaging>=20.0 in /usr/local/lib/python3.7/dist-packages (from transformers) (21.3)\n",
            "Requirement already satisfied: regex!=2019.12.17 in /usr/local/lib/python3.7/dist-packages (from transformers) (2019.12.20)\n",
            "Requirement already satisfied: tqdm>=4.27 in /usr/local/lib/python3.7/dist-packages (from transformers) (4.64.0)\n",
            "Requirement already satisfied: pyyaml>=5.1 in /usr/local/lib/python3.7/dist-packages (from transformers) (6.0)\n",
            "Requirement already satisfied: huggingface-hub<1.0,>=0.1.0 in /usr/local/lib/python3.7/dist-packages (from transformers) (0.6.0)\n",
            "Requirement already satisfied: importlib-metadata in /usr/local/lib/python3.7/dist-packages (from transformers) (4.11.3)\n",
            "Requirement already satisfied: tokenizers!=0.11.3,<0.13,>=0.11.1 in /usr/local/lib/python3.7/dist-packages (from transformers) (0.12.1)\n",
            "Requirement already satisfied: filelock in /usr/local/lib/python3.7/dist-packages (from transformers) (3.7.0)\n",
            "Requirement already satisfied: typing-extensions>=3.7.4.3 in /usr/local/lib/python3.7/dist-packages (from huggingface-hub<1.0,>=0.1.0->transformers) (4.2.0)\n",
            "Requirement already satisfied: pyparsing!=3.0.5,>=2.0.2 in /usr/local/lib/python3.7/dist-packages (from packaging>=20.0->transformers) (3.0.9)\n",
            "Requirement already satisfied: zipp>=0.5 in /usr/local/lib/python3.7/dist-packages (from importlib-metadata->transformers) (3.8.0)\n",
            "Requirement already satisfied: chardet<4,>=3.0.2 in /usr/local/lib/python3.7/dist-packages (from requests->transformers) (3.0.4)\n",
            "Requirement already satisfied: certifi>=2017.4.17 in /usr/local/lib/python3.7/dist-packages (from requests->transformers) (2021.10.8)\n",
            "Requirement already satisfied: urllib3!=1.25.0,!=1.25.1,<1.26,>=1.21.1 in /usr/local/lib/python3.7/dist-packages (from requests->transformers) (1.24.3)\n",
            "Requirement already satisfied: idna<3,>=2.5 in /usr/local/lib/python3.7/dist-packages (from requests->transformers) (2.10)\n"
          ]
        }
      ]
    },
    {
      "cell_type": "code",
      "execution_count": 3,
      "id": "389caad3",
      "metadata": {
        "colab": {
          "base_uri": "https://localhost:8080/"
        },
        "id": "389caad3",
        "outputId": "60e17be8-6106-4d80-aedf-253cf3fdbd0e"
      },
      "outputs": [
        {
          "output_type": "stream",
          "name": "stdout",
          "text": [
            "Drive already mounted at /content/drive; to attempt to forcibly remount, call drive.mount(\"/content/drive\", force_remount=True).\n"
          ]
        }
      ],
      "source": [
        "import pandas as pd\n",
        "from transformers import GPT2LMHeadModel, GPT2Tokenizer, AutoTokenizer, AutoModelWithLMHead\n",
        "\n",
        "import numpy as np\n",
        "import random\n",
        "import torch\n",
        "from torch.utils.data import Dataset, DataLoader\n",
        "\n",
        "from transformers import GPT2Tokenizer, GPT2LMHeadModel, AdamW, get_linear_schedule_with_warmup\n",
        "\n",
        "from tqdm import tqdm, trange\n",
        "import torch.nn.functional as F\n",
        "import csv\n",
        "\n",
        "import os\n",
        "import gc\n",
        "\n",
        "import re\n",
        "\n",
        "from google.colab import drive\n",
        "drive.mount('/content/drive')"
      ]
    },
    {
      "cell_type": "markdown",
      "source": [
        "# Get data"
      ],
      "metadata": {
        "id": "9Cat9_igYFoK"
      },
      "id": "9Cat9_igYFoK"
    },
    {
      "cell_type": "code",
      "execution_count": 4,
      "id": "01995ef8",
      "metadata": {
        "colab": {
          "base_uri": "https://localhost:8080/"
        },
        "id": "01995ef8",
        "outputId": "739a8bf4-bdc3-4534-c2d1-16dd577a7699"
      },
      "outputs": [
        {
          "output_type": "execute_result",
          "data": {
            "text/plain": [
              "24"
            ]
          },
          "metadata": {},
          "execution_count": 4
        }
      ],
      "source": [
        "sonets_list = os.listdir('drive/MyDrive/poems/sonety') \n",
        "\n",
        "sonety_str = ''\n",
        "for i, s in enumerate(sonets_list):\n",
        "    ### Prepare data\n",
        "    with open(f'drive/MyDrive/poems/sonety/{s}', 'r') as f:\n",
        "        sonety_str = sonety_str + f.read().replace('\\u2009', ' ') + '\\n\\n\\n\\n\\n\\n'\n",
        "\n",
        "#     df = df[df['poem'].apply(lambda x: len(x.split(' ')) < 350)]\n",
        "\n",
        "sonety = []\n",
        "for s in sonety_str.split('\\n\\n\\n\\n\\n'):\n",
        "    if len(s) > 0:\n",
        "        s_clean = s.strip('\\n').strip() \n",
        "        if '\\n\\n\\n\\n' in s_clean:\n",
        "            s_clean = s_clean.replace('\\n\\n', '\\n').replace('\\n\\n', '\\n')\n",
        "        s_clean = s_clean.replace('\\n ', '\\n').replace('\\n', ' ').replace('...', '.')\n",
        "        s_clean = re.sub('\\[[0-9]+\\]', '', s_clean)\n",
        "        s_clean = re.sub('[,;\\(\\)]', '', s_clean)\n",
        "        sonety.append(s_clean)\n",
        "len(sonety)"
      ]
    },
    {
      "cell_type": "code",
      "source": [
        "with open(f'drive/MyDrive/poems/pantadeusz/pantadeusz.txt', 'r') as f:\n",
        "    pan_str = f.read()\n",
        "\n",
        "pantadeusz = []\n",
        "for p in pan_str.split('\\n\\n'):\n",
        "    if len(p.split('\\n')) > 3:        \n",
        "        pantadeusz.append(p.strip())\n",
        "len(pantadeusz)"
      ],
      "metadata": {
        "colab": {
          "base_uri": "https://localhost:8080/"
        },
        "id": "PC0nB2foYJAv",
        "outputId": "a05d74ab-7128-4cd9-e663-800e3d93aff9"
      },
      "id": "PC0nB2foYJAv",
      "execution_count": 5,
      "outputs": [
        {
          "output_type": "execute_result",
          "data": {
            "text/plain": [
              "743"
            ]
          },
          "metadata": {},
          "execution_count": 5
        }
      ]
    },
    {
      "cell_type": "code",
      "execution_count": 6,
      "id": "5a7f38b4",
      "metadata": {
        "colab": {
          "base_uri": "https://localhost:8080/"
        },
        "id": "5a7f38b4",
        "outputId": "539e9ebf-cca1-465f-ff80-d6d4863c32cd"
      },
      "outputs": [
        {
          "output_type": "stream",
          "name": "stderr",
          "text": [
            "Special tokens have been added in the vocabulary, make sure the associated word embeddings are fine-tuned or trained.\n"
          ]
        }
      ],
      "source": [
        "#Get the tokenizer and model\n",
        "tokenizer = AutoTokenizer.from_pretrained('flax-community/papuGaPT2',\n",
        "                                          bos_token='<|startoftext|>', \n",
        "                                          eos_token='<|endoftext|>', \n",
        "                                          pad_token='<|pad|>')\n",
        "\n",
        "# model = AutoModelWithLMHead.from_pretrained('flax-community/papuGaPT2')\n",
        "\n",
        "# #Accumulated batch size (since GPT2 is so big)\n",
        "# def pack_tensor(new_tensor, packed_tensor, max_seq_len):\n",
        "#     if packed_tensor is None:\n",
        "#         return new_tensor, True, None\n",
        "#     if new_tensor.size()[1] + packed_tensor.size()[1] > max_seq_len:\n",
        "#         return packed_tensor, False, new_tensor\n",
        "#     else:\n",
        "#         packed_tensor = torch.cat([new_tensor, packed_tensor[:, 1:]], dim=1)\n",
        "#         return packed_tensor, True, None"
      ]
    },
    {
      "cell_type": "code",
      "source": [
        "max_flavour = max([len(tokenizer.encode(s)) for s in sonety])\n",
        "\n",
        "print(f'The longest flavour text is {max_flavour} tokens long.')"
      ],
      "metadata": {
        "colab": {
          "base_uri": "https://localhost:8080/"
        },
        "id": "V8XTTULYcUjU",
        "outputId": "e54b15a5-eece-49f3-91c1-15b18e667c08"
      },
      "id": "V8XTTULYcUjU",
      "execution_count": 7,
      "outputs": [
        {
          "output_type": "stream",
          "name": "stdout",
          "text": [
            "The longest flavour text is 173 tokens long.\n"
          ]
        }
      ]
    },
    {
      "cell_type": "code",
      "execution_count": 8,
      "id": "7a10e96a",
      "metadata": {
        "id": "7a10e96a"
      },
      "outputs": [],
      "source": [
        "class Poems(Dataset):  \n",
        "    def __init__(self, txt_list, tokenizer, max_length=max_flavour):\n",
        "        super().__init__()\n",
        "\n",
        "        self.tokenizer = tokenizer\n",
        "        self.poems = []\n",
        "        self.attn_masks = []\n",
        "\n",
        "        for s in tqdm(txt_list):\n",
        "            encodings_dict = tokenizer('<|startoftext|>'+ s + '<|endoftext|>', \n",
        "                                    truncation=True, \n",
        "                                    max_length=max_length, \n",
        "                                    padding=\"max_length\")\n",
        "            \n",
        "            self.poems.append(torch.tensor(encodings_dict['input_ids']))\n",
        "            self.attn_masks.append(torch.tensor(encodings_dict['attention_mask']))\n",
        "            \n",
        "        self.poems_count = len(self.poems)\n",
        "        \n",
        "    def __len__(self):\n",
        "        return self.poems_count\n",
        "\n",
        "    def __getitem__(self, idx):\n",
        "        return self.poems[idx], self.attn_masks[idx] "
      ]
    },
    {
      "cell_type": "code",
      "source": [
        "from torch.utils.data import random_split\n",
        "\n",
        "dataset = Poems(pantadeusz, tokenizer, max_length=max_flavour)\n",
        "\n",
        "# Split into training and validation sets\n",
        "train_size = int(0.9 * len(dataset))\n",
        "val_size = len(dataset) - train_size\n",
        "\n",
        "train_dataset, val_dataset = random_split(dataset, [train_size, val_size])\n",
        "\n",
        "f'There are {train_size} samples for training, and {val_size} samples for validation testing'"
      ],
      "metadata": {
        "colab": {
          "base_uri": "https://localhost:8080/",
          "height": 52
        },
        "id": "QhrjvYgoTdB3",
        "outputId": "87ca3847-bc3b-4daf-a48f-4b94fbe2575c"
      },
      "id": "QhrjvYgoTdB3",
      "execution_count": 9,
      "outputs": [
        {
          "output_type": "stream",
          "name": "stderr",
          "text": [
            "100%|██████████| 743/743 [00:00<00:00, 1401.93it/s]\n"
          ]
        },
        {
          "output_type": "execute_result",
          "data": {
            "text/plain": [
              "'There are 668 samples for training, and 75 samples for validation testing'"
            ],
            "application/vnd.google.colaboratory.intrinsic+json": {
              "type": "string"
            }
          },
          "metadata": {},
          "execution_count": 9
        }
      ]
    },
    {
      "cell_type": "code",
      "source": [
        "from torch.utils.data import DataLoader, RandomSampler, SequentialSampler\n",
        "\n",
        "bs=8\n",
        "\n",
        "train_dataloader = DataLoader(\n",
        "            train_dataset,  \n",
        "            sampler = RandomSampler(train_dataset), # Sampling for training is random\n",
        "            batch_size = bs\n",
        "        )\n",
        "\n",
        "validation_dataloader = DataLoader(\n",
        "            val_dataset, \n",
        "            sampler = SequentialSampler(val_dataset), # Sampling for validation is sequential as the order doesn't matter.\n",
        "            batch_size = bs \n",
        "        )"
      ],
      "metadata": {
        "id": "nvKU9QduT6YQ"
      },
      "id": "nvKU9QduT6YQ",
      "execution_count": 10,
      "outputs": []
    },
    {
      "cell_type": "code",
      "source": [
        "import random\n",
        "from transformers import GPT2LMHeadModel, GPT2Config\n",
        "import numpy as np\n",
        "\n",
        "# Loading the model configuration and setting it to the GPT2 standard settings.\n",
        "configuration = GPT2Config.from_pretrained('flax-community/papuGaPT2', output_hidden_states=False)\n",
        "\n",
        "# Create the instance of the model and set the token size embedding length\n",
        "model = AutoModelWithLMHead.from_pretrained(\"flax-community/papuGaPT2\", config=configuration)\n",
        "model.resize_token_embeddings(len(tokenizer))\n",
        "\n",
        "# Tell pytorch to run this model on the GPU.\n",
        "device = torch.device(\"cuda\")\n",
        "model.cuda()\n",
        "\n",
        "# This step is optional but will enable reproducible runs.\n",
        "seed_val = 42\n",
        "\n",
        "random.seed(seed_val)\n",
        "np.random.seed(seed_val)\n",
        "torch.manual_seed(seed_val)\n",
        "torch.cuda.manual_seed_all(seed_val)"
      ],
      "metadata": {
        "colab": {
          "base_uri": "https://localhost:8080/"
        },
        "id": "5Pbh4ZYCUOJ7",
        "outputId": "41966688-40ab-4f25-b6d3-5cdd62aa0821"
      },
      "id": "5Pbh4ZYCUOJ7",
      "execution_count": 11,
      "outputs": [
        {
          "output_type": "stream",
          "name": "stderr",
          "text": [
            "/usr/local/lib/python3.7/dist-packages/transformers/models/auto/modeling_auto.py:925: FutureWarning: The class `AutoModelWithLMHead` is deprecated and will be removed in a future version. Please use `AutoModelForCausalLM` for causal language models, `AutoModelForMaskedLM` for masked language models and `AutoModelForSeq2SeqLM` for encoder-decoder models.\n",
            "  FutureWarning,\n"
          ]
        }
      ]
    },
    {
      "cell_type": "code",
      "source": [
        "# We wil create a few variables to define the training parameters of the model\n",
        "# epochs are the training rounds\n",
        "# the warmup steps are steps at the start of training that are ignored\n",
        "# every x steps we will sample the model to test the output\n",
        "\n",
        "epochs = 5\n",
        "warmup_steps = 1e2\n",
        "sample_every = 100"
      ],
      "metadata": {
        "id": "3dYkH1_oUbpd"
      },
      "id": "3dYkH1_oUbpd",
      "execution_count": 12,
      "outputs": []
    },
    {
      "cell_type": "code",
      "source": [
        "from transformers import AdamW\n",
        "# AdamW is a class from the huggingface library, it is the optimizer we will be using, and we will only be instantiating it with the default parameters. \n",
        "optimizer = AdamW(model.parameters(),\n",
        "                  lr = 5e-4,\n",
        "                  eps = 1e-8\n",
        "                )"
      ],
      "metadata": {
        "colab": {
          "base_uri": "https://localhost:8080/"
        },
        "id": "HDZ-W8A3Ucfe",
        "outputId": "2b2670f7-496e-4397-9e9c-94846319b8ea"
      },
      "id": "HDZ-W8A3Ucfe",
      "execution_count": 13,
      "outputs": [
        {
          "output_type": "stream",
          "name": "stderr",
          "text": [
            "/usr/local/lib/python3.7/dist-packages/transformers/optimization.py:309: FutureWarning: This implementation of AdamW is deprecated and will be removed in a future version. Use the PyTorch implementation torch.optim.AdamW instead, or set `no_deprecation_warning=True` to disable this warning\n",
            "  FutureWarning,\n"
          ]
        }
      ]
    },
    {
      "cell_type": "code",
      "source": [
        "from transformers import get_linear_schedule_with_warmup\n",
        "\n",
        "\"\"\"\n",
        "Total training steps is the number of data points, times the number of epochs. \n",
        "Essentially, epochs are training cycles, how many times each point will be seen by the model. \n",
        "\"\"\"\n",
        "\n",
        "total_steps = len(train_dataloader) * epochs\n",
        "\n",
        "\"\"\"\n",
        "We can set a variable learning rate which will help scan larger areas of the \n",
        "problem space at higher LR earlier, then fine tune to find the exact model minima \n",
        "at lower LR later in training.\n",
        "\"\"\"\n",
        "scheduler = get_linear_schedule_with_warmup(optimizer, \n",
        "                                            num_warmup_steps = warmup_steps, \n",
        "                                            num_training_steps = total_steps)"
      ],
      "metadata": {
        "id": "IZsY8yKuUch2"
      },
      "id": "IZsY8yKuUch2",
      "execution_count": 14,
      "outputs": []
    },
    {
      "cell_type": "code",
      "source": [
        "import random\n",
        "import time\n",
        "import datetime\n",
        "\n",
        "def format_time(elapsed):\n",
        "    return str(datetime.timedelta(seconds=int(round((elapsed)))))\n",
        "\n",
        "total_t0 = time.time()\n",
        "\n",
        "training_stats = []\n",
        "\n",
        "model = model.to(device)\n",
        "\n",
        "for epoch_i in range(0, epochs):\n",
        "\n",
        "    print(f'Beginning epoch {epoch_i + 1} of {epochs}')\n",
        "\n",
        "    t0 = time.time()\n",
        "\n",
        "    total_train_loss = 0\n",
        "\n",
        "    model.train()\n",
        "\n",
        "    for step, batch in enumerate(train_dataloader):\n",
        "\n",
        "        b_input_ids = batch[0].to(device)\n",
        "        b_labels = batch[0].to(device)\n",
        "        b_masks = batch[1].to(device)\n",
        "\n",
        "        model.zero_grad()        \n",
        "\n",
        "        outputs = model(  b_input_ids,\n",
        "                          labels=b_labels, \n",
        "                          attention_mask = b_masks,\n",
        "                          token_type_ids=None\n",
        "                        )\n",
        "\n",
        "        loss = outputs[0]  \n",
        "\n",
        "        batch_loss = loss.item()\n",
        "        total_train_loss += batch_loss\n",
        "\n",
        "        # Get sample every 100 batches.\n",
        "        if step % sample_every == 0 and not step == 0:\n",
        "\n",
        "            elapsed = format_time(time.time() - t0)\n",
        "            print(f'Batch {step} of {len(train_dataloader)}. Loss:{batch_loss}. Time:{elapsed}')\n",
        "\n",
        "            model.eval()\n",
        "\n",
        "            sample_outputs = model.generate(\n",
        "                                    bos_token_id=random.randint(1,30000),\n",
        "                                    do_sample=True,   \n",
        "                                    top_k=50, \n",
        "                                    max_length = 200,\n",
        "                                    top_p=0.95, \n",
        "                                    num_return_sequences=1\n",
        "                                )\n",
        "            for i, sample_output in enumerate(sample_outputs):\n",
        "                  print(f'Example output: {tokenizer.decode(sample_output, skip_special_tokens=True)}')\n",
        "            \n",
        "            model.train()\n",
        "\n",
        "        loss.backward()\n",
        "\n",
        "        optimizer.step()\n",
        "\n",
        "        scheduler.step()\n",
        "\n",
        "    # Calculate the average loss over all of the batches.\n",
        "    avg_train_loss = total_train_loss / len(train_dataloader)       \n",
        "    \n",
        "    # Measure how long this epoch took.\n",
        "    training_time = format_time(time.time() - t0)\n",
        "\n",
        "    print(f'Average Training Loss: {avg_train_loss}. Epoch time: {training_time}')\n",
        "\n",
        "    t0 = time.time()\n",
        "\n",
        "    model.eval()\n",
        "\n",
        "    total_eval_loss = 0\n",
        "    nb_eval_steps = 0\n",
        "\n",
        "    # Evaluate data for one epoch\n",
        "    for batch in validation_dataloader:\n",
        "        \n",
        "        b_input_ids = batch[0].to(device)\n",
        "        b_labels = batch[0].to(device)\n",
        "        b_masks = batch[1].to(device)\n",
        "        \n",
        "        with torch.no_grad():        \n",
        "\n",
        "            outputs  = model(b_input_ids,  \n",
        "                             attention_mask = b_masks,\n",
        "                             labels=b_labels)\n",
        "          \n",
        "            loss = outputs[0]  \n",
        "            \n",
        "        batch_loss = loss.item()\n",
        "        total_eval_loss += batch_loss        \n",
        "\n",
        "    avg_val_loss = total_eval_loss / len(validation_dataloader)\n",
        "    \n",
        "    validation_time = format_time(time.time() - t0)    \n",
        "\n",
        "    print(f'Validation loss: {avg_val_loss}. Validation Time: {validation_time}')\n",
        "\n",
        "    # Record all statistics from this epoch.\n",
        "    training_stats.append(\n",
        "        {\n",
        "            'epoch': epoch_i + 1,\n",
        "            'Training Loss': avg_train_loss,\n",
        "            'Valid. Loss': avg_val_loss,\n",
        "            'Training Time': training_time,\n",
        "            'Validation Time': validation_time\n",
        "        }\n",
        "    )\n",
        "\n",
        "print(f'Total training took {format_time(time.time()-total_t0)}')"
      ],
      "metadata": {
        "colab": {
          "base_uri": "https://localhost:8080/"
        },
        "id": "NrK-aJNSUckp",
        "outputId": "d696d1f3-1497-4136-907a-2545e7ba216e"
      },
      "id": "NrK-aJNSUckp",
      "execution_count": 15,
      "outputs": [
        {
          "output_type": "stream",
          "name": "stdout",
          "text": [
            "Beginning epoch 1 of 5\n",
            "Average Training Loss: 17.18990289881116. Epoch time: 0:00:34\n",
            "Validation loss: 3.731582593917847. Validation Time: 0:00:01\n",
            "Beginning epoch 2 of 5\n",
            "Average Training Loss: 3.224682262965611. Epoch time: 0:00:36\n",
            "Validation loss: 3.412528157234192. Validation Time: 0:00:01\n",
            "Beginning epoch 3 of 5\n",
            "Average Training Loss: 2.711837398154395. Epoch time: 0:00:34\n",
            "Validation loss: 3.410639190673828. Validation Time: 0:00:01\n",
            "Beginning epoch 4 of 5\n",
            "Average Training Loss: 2.3145634219759987. Epoch time: 0:00:35\n",
            "Validation loss: 3.576548171043396. Validation Time: 0:00:01\n",
            "Beginning epoch 5 of 5\n",
            "Average Training Loss: 1.9690138371217818. Epoch time: 0:00:35\n",
            "Validation loss: 3.806069254875183. Validation Time: 0:00:01\n",
            "Total training took 0:03:00\n"
          ]
        }
      ]
    },
    {
      "cell_type": "code",
      "source": [
        "import seaborn as sns\n",
        "import matplotlib.pyplot as plt\n",
        "% matplotlib inline\n",
        "\n",
        "pd.set_option('precision', 2)\n",
        "df_stats = pd.DataFrame(data=training_stats)\n",
        "df_stats = df_stats.set_index('epoch')\n",
        "\n",
        "# Use plot styling from seaborn.\n",
        "sns.set(style='darkgrid')\n",
        "\n",
        "# Increase the plot size and font size.\n",
        "sns.set(font_scale=1.5)\n",
        "plt.rcParams[\"figure.figsize\"] = (12,6)\n",
        "\n",
        "# Plot the learning curve.\n",
        "plt.plot(df_stats['Training Loss'], 'b-o', label=\"Training\")\n",
        "plt.plot(df_stats['Valid. Loss'], 'g-o', label=\"Validation\")\n",
        "\n",
        "# Label the plot.\n",
        "plt.title(\"Training & Validation Loss\")\n",
        "plt.xlabel(\"Epoch\")\n",
        "plt.ylabel(\"Loss\")\n",
        "plt.legend()\n",
        "plt.xticks([1, 2, 3, 4])\n",
        "\n",
        "plt.show()"
      ],
      "metadata": {
        "colab": {
          "base_uri": "https://localhost:8080/",
          "height": 427
        },
        "id": "Fk177z0oUguE",
        "outputId": "d6759673-8964-4739-f129-221722883f22"
      },
      "id": "Fk177z0oUguE",
      "execution_count": 18,
      "outputs": [
        {
          "output_type": "display_data",
          "data": {
            "text/plain": [
              "<Figure size 864x432 with 1 Axes>"
            ],
            "image/png": "[encoded data removed]"
          },
          "metadata": {}
        }
      ]
    },
    {
      "cell_type": "code",
      "source": [
        "model.eval()\n",
        "\n",
        "prompt = \"<|startoftext|>\"\n",
        "\n",
        "generated = torch.tensor(tokenizer.encode(prompt)).unsqueeze(0)\n",
        "generated = generated.to(device)\n",
        "\n",
        "sample_outputs = model.generate(\n",
        "                                generated, \n",
        "                                do_sample=True,   \n",
        "                                top_k=50, \n",
        "                                max_length = 300,\n",
        "                                top_p=0.95, \n",
        "                                num_return_sequences=3\n",
        "                                )\n",
        "\n",
        "for i, sample_output in enumerate(sample_outputs):\n",
        "  print(\"{}: {}\\n\\n\".format(i, tokenizer.decode(sample_output, skip_special_tokens=True)))"
      ],
      "metadata": {
        "colab": {
          "base_uri": "https://localhost:8080/"
        },
        "id": "-VXxTNobUgw-",
        "outputId": "7e289b6c-c087-4894-e7d4-9c3b6ea3f86b"
      },
      "id": "-VXxTNobUgw-",
      "execution_count": 19,
      "outputs": [
        {
          "output_type": "stream",
          "name": "stderr",
          "text": [
            "Setting `pad_token_id` to `eos_token_id`:50256 for open-end generation.\n"
          ]
        },
        {
          "output_type": "stream",
          "name": "stdout",
          "text": [
            "0: Po chwili do izb pospólstwa, z których na czele\n",
            "Tadeusz z Telimeną rozmawiali,\n",
            "Podniosły Tadeusz ganek z Telimeną i Zosię,\n",
            "Rozprzestrzenił nieco jej wodze,\n",
            "Wzdłuż szepce coś o jej rywalce i o żołnierzu,\n",
            "Tadeusz nie był w porę czy umyślnie zajęty rozmową,\n",
            "Czyżby to, co mówił, zaraz zmilczał.\n",
            "\n",
            "\n",
            "1: Tu Wojski zobaczył, był na stołkach,\n",
            "Na nim posadził Horeszków, pany z Soplicowskim\n",
            "Sędzia na to rzekł: «Nie dosyć zuchwale,\n",
            "Już mnie uszczupliło wasze zuchwale wasze,\n",
            "Upomnię się o wasze dusze, jeśli mi o tym powiecie.\n",
            "Ja wam opowiem, co was czeka. Wszak wy jesteście\n",
            "Przebudzeniem!»\n",
            "\n",
            "\n",
            "2: Sędzia za stół ławą nalała, lecz już brała księże.\n",
            "Widać, iż kucharka nadzwyczaj gospodarna.\n",
            "Rzekł Sędzia: Klucznik, że w domu tym pan Sopliców wiele\n",
            "Odbył, więc o jego gospodarskim rodzie wieść nie śmie\n",
            "Może? Wszak tam na wielkiej sali siedzi jego dość bogata rodzina!\n",
            "Może pan Hrabia, brat jego stryja, pan Dobrzyńscy,\n",
            "Niemalże wszyscy, gdy się z panem Horeszkowskim ustąpili\n",
            "I zaczęli do siebie strzelać: wszak wszyscy\n",
            "Na kuchnię polową i pańskie garnie przed obiadem;\n",
            "I wtenczas z panem Hrabią słyszeliście, że on z wami,\n",
            "Więc o co idzie? wasze na stół czekają uczty!\n",
            "I z panem Horeszkowskim, i z paniami: z tą swatyną!\n",
            "To z tą swatą to tak trzeba, a tego właśnie pana,\n",
            "Widziałam jak on! Z tą swatyną? On nas przed obiadem\n",
            "Dostrzegła we mgle i w ciemnościach!\n",
            "\n",
            "\n"
          ]
        }
      ]
    },
    {
      "cell_type": "code",
      "source": [
        ""
      ],
      "metadata": {
        "id": "hYZLWwEGUcnY"
      },
      "id": "hYZLWwEGUcnY",
      "execution_count": 17,
      "outputs": []
    }
  ],
  "metadata": {
    "kernelspec": {
      "display_name": "Python 3 (ipykernel)",
      "language": "python",
      "name": "python3"
    },
    "language_info": {
      "codemirror_mode": {
        "name": "ipython",
        "version": 3
      },
      "file_extension": ".py",
      "mimetype": "text/x-python",
      "name": "python",
      "nbconvert_exporter": "python",
      "pygments_lexer": "ipython3",
      "version": "3.9.10"
    },
    "colab": {
      "name": "06_finetune_papuGaPT2.ipynb",
      "provenance": [],
      "collapsed_sections": [],
      "toc_visible": true
    },
    "accelerator": "GPU"
  },
  "nbformat": 4,
  "nbformat_minor": 5
}